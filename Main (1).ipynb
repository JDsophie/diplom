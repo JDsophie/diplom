{
 "cells": [
  {
   "cell_type": "code",
   "execution_count": 1,
   "id": "86f1271e",
   "metadata": {},
   "outputs": [],
   "source": [
    "from students_matching import StudentsMatching"
   ]
  },
  {
   "cell_type": "code",
   "execution_count": 122,
   "id": "6b62c242",
   "metadata": {},
   "outputs": [],
   "source": [
    "num_students = 450\n",
    "num_profiles = 8\n",
    "\n",
    "min_num_groups = [0, 0, 0, 0, 0, 0, 0, 0]\n",
    "max_num_groups = [2, 2, 4, 2, 9, 3, 3, 4]\n",
    "max_group_sizes = [30, 32, 30, 30, 30, 30, 18, 30]\n",
    "min_group_sizes = [25, 30, 27, 30, 25, 30, 15, 30]\n",
    "\n",
    "perc_of_target = 0.05\n",
    "perc_of_contract = 0.3\n",
    "debts_limit = 5\n",
    "first_pref = 55\n",
    "first_pref_target = 5"
   ]
  },
  {
   "cell_type": "code",
   "execution_count": 123,
   "id": "8a9c0467",
   "metadata": {},
   "outputs": [],
   "source": [
    "matching = StudentsMatching(num_students, num_profiles, perc_of_target,\n",
    "                            perc_of_contract, debts_limit, first_pref, first_pref_target,\n",
    "                            min_num_groups, max_num_groups, min_group_sizes, max_group_sizes)"
   ]
  },
  {
   "cell_type": "code",
   "execution_count": 124,
   "id": "19d640bd",
   "metadata": {},
   "outputs": [
    {
     "name": "stdout",
     "output_type": "stream",
     "text": [
      "Профиль 0: Студенты, поставившие первым приоритетом: 44, целевиков: 3\n",
      "Профиль 1: Студенты, поставившие первым приоритетом: 45, целевиков: 3\n",
      "Профиль 2: Студенты, поставившие первым приоритетом: 53, целевиков: 3\n",
      "Профиль 3: Студенты, поставившие первым приоритетом: 45, целевиков: 3\n",
      "Профиль 4: Студенты, поставившие первым приоритетом: 52, целевиков: 1\n",
      "Профиль 5: Студенты, поставившие первым приоритетом: 64, целевиков: 2\n",
      "Профиль 6: Студенты, поставившие первым приоритетом: 61, целевиков: 6\n",
      "Профиль 7: Студенты, поставившие первым приоритетом: 51, целевиков: 1\n",
      "Размер резерва студентов: 45\n",
      "Резерв студентов: [379, 97, 344, 296, 440, 405, 130, 162, 300, 374, 145, 17, 219, 33, 270, 238, 392, 64, 62, 133, 295, 2, 40, 431, 96, 24, 428, 187, 211, 420, 323, 307, 322, 262, 109, 331, 293, 125, 229, 227, 53, 115, 256, 377, 166]\n"
     ]
    }
   ],
   "source": [
    "for prof in matching.data_p.index:\n",
    "    print(f\"Профиль {prof}: Студенты, поставившие первым приоритетом: {matching.priorities[prof]}, \"\n",
    "          f\"целевиков: {matching.priorities_target[prof]}\")\n",
    "\n",
    "print(f\"Размер резерва студентов: {matching.reserve_size}\")\n",
    "print(f\"Резерв студентов: {matching.reserve_students}\")"
   ]
  },
  {
   "cell_type": "code",
   "execution_count": 125,
   "id": "ff8c8748",
   "metadata": {},
   "outputs": [
    {
     "name": "stdout",
     "output_type": "stream",
     "text": [
      "Профиль 0: Студенты - [412, 242, 422, 168, 257, 389, 183, 172, 173, 42, 140, 196, 372, 371, 164, 59, 429, 58, 110, 294, 126, 317, 356, 346, 39, 11, 443, 436, 18, 170, 345, 304, 313, 205, 118, 89, 226, 52, 163, 258, 358, 415, 240, 106, 405]\n",
      "Всего на профиле 0 45 студентов\n",
      "Для максимальной заполненности 1 групп профиля 0 выгнать: 15\n",
      "Для минимальной заполненности 2 групп профиля 0 добавить: 5\n",
      "Профиль 1: Студенты - [447, 334, 45, 36, 297, 314, 221, 70, 137, 347, 131, 337, 403, 426, 91, 273, 6, 120, 255, 260, 112, 427, 413, 424, 143, 290, 46, 195, 311, 355, 171, 327, 99, 237, 318, 214, 180, 341, 157, 15, 0, 201, 148, 159, 374, 130, 344]\n",
      "Всего на профиле 1 47 студентов\n",
      "Для максимальной заполненности 1 групп профиля 1 выгнать: 15\n",
      "Для минимальной заполненности 2 групп профиля 1 добавить: 13\n",
      "Профиль 2: Студенты - [369, 321, 292, 165, 37, 152, 27, 418, 396, 303, 286, 435, 299, 407, 104, 225, 179, 186, 86, 224, 383, 19, 245, 132, 28, 444, 69, 438, 34, 267, 433, 414, 391, 167, 197, 411, 198, 261, 123, 9, 71, 269, 243, 98, 76, 354, 400, 230, 288, 259, 386, 234, 162]\n",
      "Всего на профиле 2 53 студентов\n",
      "Для максимальной заполненности 1 групп профиля 2 выгнать: 23\n",
      "Для минимальной заполненности 2 групп профиля 2 добавить: 1\n",
      "Профиль 3: Студенты - [382, 448, 268, 29, 210, 144, 22, 192, 235, 343, 83, 4, 16, 175, 139, 330, 246, 51, 185, 348, 384, 77, 367, 266, 353, 425, 3, 60, 362, 56, 160, 278, 308, 216, 449, 271, 44, 220, 25, 208, 154, 80, 393, 368, 440, 97]\n",
      "Всего на профиле 3 46 студентов\n",
      "Для максимальной заполненности 1 групп профиля 3 выгнать: 16\n",
      "Для минимальной заполненности 2 групп профиля 3 добавить: 14\n",
      "Профиль 4: Студенты - [117, 417, 283, 23, 156, 340, 401, 399, 176, 441, 326, 85, 93, 376, 213, 381, 282, 193, 265, 174, 285, 149, 306, 141, 101, 73, 445, 244, 364, 206, 151, 72, 370, 388, 194, 1, 390, 122, 279, 202, 281, 423, 395, 128, 254, 409, 434, 13, 41, 57, 398, 379]\n",
      "Всего на профиле 4 52 студентов\n",
      "Студентов профиля 4 можно распределить в 2 групп\n",
      "Не хватает студентов до максимальной заполненности групп для профиля 4: 8\n",
      "Профиль 5: Студенты - [182, 82, 236, 135, 147, 233, 252, 43, 48, 55, 103, 325, 177, 218, 247, 437, 446, 47, 241, 74, 385, 21, 181, 7, 350, 102, 136, 319, 188, 309, 95, 316, 30, 275, 107, 61, 212, 280, 134, 209, 138, 298, 232, 14, 88, 116, 263, 68, 199, 272, 361, 397, 94, 75, 12, 215, 250, 158, 342, 253, 111, 338, 54, 200, 357, 300]\n",
      "Всего на профиле 5 66 студентов\n",
      "Для максимальной заполненности 2 групп профиля 5 выгнать: 6\n",
      "Для минимальной заполненности 3 групп профиля 5 добавить: 24\n",
      "Профиль 6: Студенты - [184, 349, 328, 5, 50, 421, 274, 408, 249, 169, 404, 239, 289, 8, 90, 312, 329, 402, 276, 380, 142, 359, 92, 38, 335, 78, 79, 119, 10, 291, 373, 66, 375, 366, 332, 336, 105, 365, 129, 222, 410, 190, 324, 100, 301, 277, 155, 217, 320, 178, 150, 124, 416, 127]\n",
      "Всего на профиле 6 54 студентов\n",
      "На профиле 6 можно сформировать 3 полных групп.\n",
      "Профиль 7: Студенты - [305, 394, 302, 352, 65, 114, 264, 32, 87, 363, 67, 315, 26, 108, 284, 406, 251, 430, 146, 35, 223, 228, 432, 63, 207, 439, 31, 387, 113, 231, 121, 84, 20, 310, 378, 153, 351, 339, 360, 442, 203, 161, 333, 189, 49, 191, 287, 248, 204, 81, 419, 296]\n",
      "Всего на профиле 7 52 студентов\n",
      "Для максимальной заполненности 1 групп профиля 7 выгнать: 22\n",
      "Для минимальной заполненности 2 групп профиля 7 добавить: 8\n"
     ]
    }
   ],
   "source": [
    "matching.gale_shapley(matching.sorted_students)\n",
    "for prof, matched_students in matching.profiles_matches.items():\n",
    "    print(f\"Профиль {prof}: Студенты - {matched_students}\")\n",
    "    print(f\"Всего на профиле {prof} {len(matched_students)} студентов\")\n",
    "\n",
    "    max_size = matching.data_p.loc[prof, 'max_group_size']\n",
    "    min_size = matching.data_p.loc[prof, 'min_group_size']\n",
    "    if len(matched_students) > 0:\n",
    "        full_groups = len(matched_students) // max_size\n",
    "        small_groups = len(matched_students) // min_size\n",
    "        if len(matched_students) % max_size == 0:\n",
    "            print(f\"На профиле {prof} можно сформировать {full_groups} полных групп.\")\n",
    "        elif small_groups == full_groups:\n",
    "            students_to_remove = len(matched_students) % max_size\n",
    "            students_to_add = min_size - len(matched_students) % min_size\n",
    "            print(f\"Для максимальной заполненности {full_groups} групп профиля {prof} выгнать: {students_to_remove}\")\n",
    "            print(f\"Для минимальной заполненности {small_groups + 1} групп профиля {prof} добавить: {students_to_add}\")\n",
    "        else:\n",
    "            print(f\"Студентов профиля {prof} можно распределить в {small_groups} групп\")\n",
    "            students_needed_to_max = max_size - len(matched_students) % max_size \n",
    "            print(f\"Не хватает студентов до максимальной заполненности групп для профиля {prof}: {students_needed_to_max}\")\n",
    "    else:\n",
    "        print(f\"На профиле {prof} нет зачисленных студентов.\")"
   ]
  },
  {
   "cell_type": "code",
   "execution_count": 126,
   "id": "f7ec1d43",
   "metadata": {},
   "outputs": [
    {
     "name": "stdout",
     "output_type": "stream",
     "text": [
      "Незачисленные студенты:\n",
      "[2, 17, 24, 33, 40, 53, 62, 64, 96, 109, 115, 125, 133, 145, 166, 187, 211, 219, 227, 229, 238, 256, 262, 270, 293, 295, 307, 322, 323, 331, 377, 392, 420, 428, 431]\n"
     ]
    }
   ],
   "source": [
    "print(\"Незачисленные студенты:\")\n",
    "print(matching.unmatched_students)"
   ]
  },
  {
   "cell_type": "code",
   "execution_count": 127,
   "id": "f79eba04",
   "metadata": {},
   "outputs": [],
   "source": [
    "full_prof = []\n",
    "unfull_prof = []\n",
    "sum_to_add = 0\n",
    "full_groups = []\n",
    "\n",
    "for prof, matched_students in matching.profiles_matches.items():\n",
    "    max_size = matching.data_p.loc[prof, 'max_group_size']\n",
    "    min_size = matching.data_p.loc[prof, 'min_group_size']\n",
    "\n",
    "    full_groups.append(len(matched_students) // max_size)\n",
    "    small_groups = len(matched_students) // min_size \n",
    "    \n",
    "    if (small_groups == full_groups[prof]) and (len(matched_students) % max_size != 0):\n",
    "        unfull_prof.append(prof)\n",
    "        students_to_add = min_size - len(matched_students) % min_size\n",
    "        sum_to_add += students_to_add\n",
    "    else: full_prof.append(prof)"
   ]
  },
  {
   "cell_type": "code",
   "execution_count": 128,
   "id": "7897cd76",
   "metadata": {},
   "outputs": [
    {
     "name": "stdout",
     "output_type": "stream",
     "text": [
      "374\n",
      "[447, 334, 45, 36, 297, 314, 221, 70, 137, 347, 131, 337, 403, 426, 91, 273, 6, 120, 255, 260, 112, 427, 413, 424, 143, 290, 46, 195, 311, 355, 171, 327, 99, 237, 318, 214, 180, 341, 157, 15, 0, 201, 148, 159, 374, 130, 344]\n",
      "[447, 334, 45, 36, 297, 314, 221, 70, 137, 347, 131, 337, 403, 426, 91, 273, 6, 120, 255, 260, 112, 427, 413, 424, 143, 290, 46, 195, 311, 355, 171, 327, 99, 237, 318, 214, 180, 341, 157, 15, 0, 201, 148, 159, 130, 344]\n",
      "[374]\n",
      "полных групп было 1, полных групп стало 1\n",
      "полных групп было 1, полных групп стало 1\n",
      "полных групп было 1, полных групп стало 1\n",
      "полных групп было 1, полных групп стало 1\n",
      "полных групп было 1, полных групп стало 1\n",
      "полных групп было 2, полных групп стало 1\n",
      "произошло перераспределение\n",
      "Нераспределённых студентов: 35 и достаточно для комплектации профилей\n",
      "студенты к распределению: [2, 17, 24, 33, 40, 53, 62, 64, 96, 109, 115, 125, 133, 145, 166, 187, 211, 219, 227, 229, 238, 256, 262, 270, 293, 295, 307, 322, 323, 331, 377, 392, 420, 428, 431]\n",
      "нужно для распределения 22\n"
     ]
    },
    {
     "name": "stderr",
     "output_type": "stream",
     "text": [
      "C:\\Users\\HP\\AppData\\Local\\Temp\\ipykernel_16404\\1985768697.py:32: FutureWarning: ChainedAssignmentError: behaviour will change in pandas 3.0!\n",
      "You are setting values through chained assignment. Currently this works in certain cases, but when using Copy-on-Write (which will become the default behaviour in pandas 3.0) this will never work to update the original DataFrame or Series, because the intermediate object on which we are setting values will behave as a copy.\n",
      "A typical example is when you are setting values in a column of a DataFrame, like:\n",
      "\n",
      "df[\"col\"][row_indexer] = value\n",
      "\n",
      "Use `df.loc[row_indexer, \"col\"] = values` instead, to perform the assignment in a single step and ensure this keeps updating the original `df`.\n",
      "\n",
      "See the caveats in the documentation: https://pandas.pydata.org/pandas-docs/stable/user_guide/indexing.html#returning-a-view-versus-a-copy\n",
      "\n",
      "  matching.data_p['quota'][prof] = full_group[prof] * matching.data_p['max_group_size'][prof]\n",
      "C:\\Users\\HP\\AppData\\Local\\Temp\\ipykernel_16404\\1985768697.py:32: SettingWithCopyWarning: \n",
      "A value is trying to be set on a copy of a slice from a DataFrame\n",
      "\n",
      "See the caveats in the documentation: https://pandas.pydata.org/pandas-docs/stable/user_guide/indexing.html#returning-a-view-versus-a-copy\n",
      "  matching.data_p['quota'][prof] = full_group[prof] * matching.data_p['max_group_size'][prof]\n"
     ]
    }
   ],
   "source": [
    "free_st = [] \n",
    "full_group = []\n",
    "\n",
    "while True:\n",
    "    \n",
    "    if not unfull_prof:\n",
    "        break\n",
    "        \n",
    "    if len(free_st+matching.unmatched_students) >= sum_to_add:\n",
    "        print(f'Нераспределённых студентов: {len(free_st+matching.unmatched_students)} и достаточно для комплектации профилей')\n",
    "        print(f'студенты к распределению: {free_st+matching.unmatched_students}')\n",
    "        print(f'нужно для распределения {sum_to_add}')\n",
    "        break\n",
    "        \n",
    "    result = [item for item in matching.sorted_students if item not in matching.unmatched_students and item not in free_st][-1]\n",
    "    print(result)\n",
    "    print(matching.profiles_matches[matching.student_matches[result]])\n",
    "    matching.profiles_matches[matching.student_matches[result]].remove(result)\n",
    "    print(matching.profiles_matches[matching.student_matches[result]])\n",
    "    matching.student_matches[result] = None\n",
    "    free_st.append(result)\n",
    "    print(free_st)\n",
    "    \n",
    "    for prof in range(matching.data_p.shape[1]):\n",
    "        \n",
    "        max_size = matching.data_p.loc[prof, 'max_group_size']\n",
    "        full_group.append(len(matched_students) // max_size)\n",
    "        print(f'полных групп было {full_groups[prof]}, полных групп стало {full_group[prof]}')\n",
    "        \n",
    "        if full_group[prof] != full_groups[prof]:\n",
    "            \n",
    "            matching.data_p['quota'][prof] = full_group[prof] * matching.data_p['max_group_size'][prof]\n",
    "            \n",
    "            index_map = {value: index for index, value in enumerate(matching.sorted_students)}\n",
    "            matching.profiles_matches[1].sort(key=lambda x: index_map.get(x, float('inf')))\n",
    "            \n",
    "            free_st += matching.profiles_matches[matching.student_matches[prof]][matching.data_p['quota'][prof]:]\n",
    "            matching.profiles_matches[prof] = matching.profiles_matches[matching.student_matches[prof]][:matching.data_p['quota'][prof]]           \n",
    "            matching.gale_shapley(free_st)\n",
    "            \n",
    "            full_prof = []\n",
    "            unfull_prof = []\n",
    "            sum_to_add = 0\n",
    "            full_groups = full_group\n",
    "            free_st = []  \n",
    "            \n",
    "            for prof, matched_students in matching.profiles_matches.items():\n",
    "                max_size = matching.data_p.loc[prof, 'max_group_size']\n",
    "                min_size = matching.data_p.loc[prof, 'min_group_size']\n",
    "\n",
    "                full_groups.append(len(matched_students) // max_size)\n",
    "                small_groups = len(matched_students) // min_size \n",
    "    \n",
    "                if (small_groups == full_groups[prof]) and (len(matched_students) % max_size != 0):\n",
    "                    unfull_prof.append(prof)\n",
    "                    students_to_add = min_size - len(matched_students) % min_size\n",
    "                    sum_to_add += students_to_add\n",
    "                else: full_prof.append(prof)\n",
    "            print ('произошло перераспределение')"
   ]
  },
  {
   "cell_type": "code",
   "execution_count": 129,
   "id": "3545d849",
   "metadata": {},
   "outputs": [
    {
     "name": "stdout",
     "output_type": "stream",
     "text": [
      "Профиль 0: Студенты - [412, 242, 422, 168, 257, 389, 183, 172, 173, 42, 140, 196, 372, 371, 164, 59, 429, 58, 110, 294, 126, 317, 356, 346, 39, 11, 443, 436, 18, 170, 345, 304, 313, 205, 118, 89, 226, 52, 163, 258, 358, 415, 240, 106, 405, 320, 416, 277, 301, 100]\n",
      "Всего на профиле 0 50 студентов\n",
      "Студентов профиля 0 можно распределить в 2 групп\n",
      "Не хватает студентов до максимальной заполненности групп для профиля 0: 10\n",
      "Профиль 1: Студенты - [447, 334, 45, 36, 297, 314, 221, 70, 137, 347, 131, 337, 403, 426, 91, 273, 6, 120, 255, 260, 112, 427, 413, 424, 143, 290, 46, 195, 311, 355, 171, 327, 99, 237, 318, 214, 180, 341, 157, 15, 0, 201, 148, 159, 344, 130, 374, 301, 178, 124, 127, 416, 324]\n",
      "Всего на профиле 1 53 студентов\n",
      "Для максимальной заполненности 1 групп профиля 1 выгнать: 21\n",
      "Для минимальной заполненности 2 групп профиля 1 добавить: 7\n",
      "Профиль 2: Студенты - [369, 321, 292, 165, 37, 152, 27, 418, 396, 303, 286, 435, 299, 407, 104, 225, 179, 186, 86, 224, 383, 19, 245, 132, 28, 444, 69, 438, 34, 267, 433, 414, 391, 167, 197, 411, 198, 261, 123, 9, 71, 269, 243, 98, 76, 354, 400, 230, 288, 259, 386, 234, 162, 324, 127, 150, 320]\n",
      "Всего на профиле 2 57 студентов\n",
      "Студентов профиля 2 можно распределить в 2 групп\n",
      "Не хватает студентов до максимальной заполненности групп для профиля 2: 3\n",
      "Профиль 3: Студенты - [382, 448, 268, 29, 210, 144, 22, 192, 235, 343, 83, 4, 16, 175, 139, 330, 246, 51, 185, 348, 384, 77, 367, 266, 353, 425, 3, 60, 362, 56, 160, 278, 308, 216, 449, 271, 44, 220, 25, 208, 154, 80, 393, 368, 440, 97, 155, 150, 124]\n",
      "Всего на профиле 3 49 студентов\n",
      "Для максимальной заполненности 1 групп профиля 3 выгнать: 19\n",
      "Для минимальной заполненности 2 групп профиля 3 добавить: 11\n",
      "Профиль 4: Студенты - [117, 417, 283, 23, 156, 340, 401, 399, 176, 441, 326, 85, 93, 376, 213, 381, 282, 193, 265, 174, 285, 149, 306, 141, 101, 73, 445, 244, 364, 206, 151, 72, 370, 388, 194, 1, 390, 122, 279, 202, 281, 423, 395, 128, 254, 409, 434, 13, 41, 57, 398, 379, 178, 217]\n",
      "Всего на профиле 4 54 студентов\n",
      "Студентов профиля 4 можно распределить в 2 групп\n",
      "Не хватает студентов до максимальной заполненности групп для профиля 4: 6\n",
      "Профиль 5: Студенты - [184, 349, 328, 5, 50, 421, 274, 408, 249, 169, 404, 239, 289, 8, 90, 312, 329, 402, 276, 380, 142, 359, 92, 38, 335, 78, 79, 119, 10, 291]\n",
      "Всего на профиле 5 30 студентов\n",
      "На профиле 5 можно сформировать 1 полных групп.\n",
      "Профиль 6: Студенты - [184, 349, 328, 5, 50, 421, 274, 408, 249, 169, 404, 239, 289, 8, 90, 312, 329, 402, 276, 380, 142, 359, 92, 38, 335, 78, 79, 119, 10, 291, 373, 373, 66, 66, 375, 375, 366, 366, 332, 332, 336, 336, 105, 105, 365, 365, 129, 129, 222, 222, 410, 410, 190, 190]\n",
      "Всего на профиле 6 54 студентов\n",
      "На профиле 6 можно сформировать 3 полных групп.\n",
      "Профиль 7: Студенты - [305, 394, 302, 352, 65, 114, 264, 32, 87, 363, 67, 315, 26, 108, 284, 406, 251, 430, 146, 35, 223, 228, 432, 63, 207, 439, 31, 387, 113, 231, 121, 84, 20, 310, 378, 153, 351, 339, 360, 442, 203, 161, 333, 189, 49, 191, 287, 248, 204, 81, 419, 296, 100, 277, 217, 155]\n",
      "Всего на профиле 7 56 студентов\n",
      "Для максимальной заполненности 1 групп профиля 7 выгнать: 26\n",
      "Для минимальной заполненности 2 групп профиля 7 добавить: 4\n"
     ]
    }
   ],
   "source": [
    "for prof, matched_students in matching.profiles_matches.items():\n",
    "    print(f\"Профиль {prof}: Студенты - {matched_students}\")\n",
    "    print(f\"Всего на профиле {prof} {len(matched_students)} студентов\")\n",
    "\n",
    "    max_size = matching.data_p.loc[prof, 'max_group_size']\n",
    "    min_size = matching.data_p.loc[prof, 'min_group_size']\n",
    "    if len(matched_students) > 0:\n",
    "        full_groups = len(matched_students) // max_size\n",
    "        small_groups = len(matched_students) // min_size\n",
    "        if len(matched_students) % max_size == 0:\n",
    "            print(f\"На профиле {prof} можно сформировать {full_groups} полных групп.\")\n",
    "        elif small_groups == full_groups:\n",
    "            students_to_remove = len(matched_students) % max_size\n",
    "            students_to_add = min_size - len(matched_students) % min_size\n",
    "            print(f\"Для максимальной заполненности {full_groups} групп профиля {prof} выгнать: {students_to_remove}\")\n",
    "            print(f\"Для минимальной заполненности {small_groups + 1} групп профиля {prof} добавить: {students_to_add}\")\n",
    "        else:\n",
    "            print(f\"Студентов профиля {prof} можно распределить в {small_groups} групп\")\n",
    "            students_needed_to_max = max_size - len(matched_students) % max_size \n",
    "            print(f\"Не хватает студентов до максимальной заполненности групп для профиля {prof}: {students_needed_to_max}\")\n",
    "    else:\n",
    "        print(f\"На профиле {prof} нет зачисленных студентов.\")"
   ]
  },
  {
   "cell_type": "code",
   "execution_count": null,
   "id": "c2fe108e",
   "metadata": {},
   "outputs": [],
   "source": []
  }
 ],
 "metadata": {
  "kernelspec": {
   "display_name": "Python 3 (ipykernel)",
   "language": "python",
   "name": "python3"
  },
  "language_info": {
   "codemirror_mode": {
    "name": "ipython",
    "version": 3
   },
   "file_extension": ".py",
   "mimetype": "text/x-python",
   "name": "python",
   "nbconvert_exporter": "python",
   "pygments_lexer": "ipython3",
   "version": "3.9.13"
  }
 },
 "nbformat": 4,
 "nbformat_minor": 5
}
